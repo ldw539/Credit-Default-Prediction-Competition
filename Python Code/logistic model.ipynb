{
 "cells": [
  {
   "cell_type": "code",
   "execution_count": 1,
   "id": "0b908301",
   "metadata": {},
   "outputs": [],
   "source": [
    "import warnings\n",
    "import pandas as pd\n",
    "import numpy as np"
   ]
  },
  {
   "cell_type": "code",
   "execution_count": 244,
   "id": "69e92a7f",
   "metadata": {},
   "outputs": [],
   "source": [
    "data = pd.read_csv(\"cleandata.csv\")"
   ]
  },
  {
   "cell_type": "code",
   "execution_count": 245,
   "id": "8619ff67",
   "metadata": {},
   "outputs": [
    {
     "data": {
      "text/html": [
       "<div>\n",
       "<style scoped>\n",
       "    .dataframe tbody tr th:only-of-type {\n",
       "        vertical-align: middle;\n",
       "    }\n",
       "\n",
       "    .dataframe tbody tr th {\n",
       "        vertical-align: top;\n",
       "    }\n",
       "\n",
       "    .dataframe thead th {\n",
       "        text-align: right;\n",
       "    }\n",
       "</style>\n",
       "<table border=\"1\" class=\"dataframe\">\n",
       "  <thead>\n",
       "    <tr style=\"text-align: right;\">\n",
       "      <th></th>\n",
       "      <th>Unnamed: 0</th>\n",
       "      <th>loan_id</th>\n",
       "      <th>user_id</th>\n",
       "      <th>total_loan</th>\n",
       "      <th>year_of_loan</th>\n",
       "      <th>interest</th>\n",
       "      <th>monthly_payment</th>\n",
       "      <th>class</th>\n",
       "      <th>employer_type</th>\n",
       "      <th>industry</th>\n",
       "      <th>...</th>\n",
       "      <th>f3</th>\n",
       "      <th>f4</th>\n",
       "      <th>early_return</th>\n",
       "      <th>early_return_amount</th>\n",
       "      <th>early_return_amount_3mon</th>\n",
       "      <th>isDefault</th>\n",
       "      <th>issue_date_month</th>\n",
       "      <th>issue_date_dayofweek</th>\n",
       "      <th>earliesCreditMon</th>\n",
       "      <th>earliesCreditYear</th>\n",
       "    </tr>\n",
       "  </thead>\n",
       "  <tbody>\n",
       "    <tr>\n",
       "      <th>0</th>\n",
       "      <td>0</td>\n",
       "      <td>1040418</td>\n",
       "      <td>240418</td>\n",
       "      <td>31818.181820</td>\n",
       "      <td>3</td>\n",
       "      <td>11.466</td>\n",
       "      <td>1174.91</td>\n",
       "      <td>3</td>\n",
       "      <td>3</td>\n",
       "      <td>13</td>\n",
       "      <td>...</td>\n",
       "      <td>5.0</td>\n",
       "      <td>4.0</td>\n",
       "      <td>3</td>\n",
       "      <td>9927</td>\n",
       "      <td>0.000000</td>\n",
       "      <td>0.0</td>\n",
       "      <td>10</td>\n",
       "      <td>5</td>\n",
       "      <td>12</td>\n",
       "      <td>2001</td>\n",
       "    </tr>\n",
       "    <tr>\n",
       "      <th>1</th>\n",
       "      <td>1</td>\n",
       "      <td>1025197</td>\n",
       "      <td>225197</td>\n",
       "      <td>28000.000000</td>\n",
       "      <td>5</td>\n",
       "      <td>16.841</td>\n",
       "      <td>670.69</td>\n",
       "      <td>3</td>\n",
       "      <td>3</td>\n",
       "      <td>13</td>\n",
       "      <td>...</td>\n",
       "      <td>45.0</td>\n",
       "      <td>22.0</td>\n",
       "      <td>0</td>\n",
       "      <td>0</td>\n",
       "      <td>0.000000</td>\n",
       "      <td>0.0</td>\n",
       "      <td>6</td>\n",
       "      <td>5</td>\n",
       "      <td>4</td>\n",
       "      <td>1990</td>\n",
       "    </tr>\n",
       "    <tr>\n",
       "      <th>2</th>\n",
       "      <td>2</td>\n",
       "      <td>1009360</td>\n",
       "      <td>209360</td>\n",
       "      <td>17272.727270</td>\n",
       "      <td>3</td>\n",
       "      <td>8.900</td>\n",
       "      <td>603.32</td>\n",
       "      <td>1</td>\n",
       "      <td>3</td>\n",
       "      <td>3</td>\n",
       "      <td>...</td>\n",
       "      <td>28.0</td>\n",
       "      <td>19.0</td>\n",
       "      <td>0</td>\n",
       "      <td>0</td>\n",
       "      <td>0.000000</td>\n",
       "      <td>0.0</td>\n",
       "      <td>1</td>\n",
       "      <td>2</td>\n",
       "      <td>10</td>\n",
       "      <td>1991</td>\n",
       "    </tr>\n",
       "    <tr>\n",
       "      <th>3</th>\n",
       "      <td>3</td>\n",
       "      <td>1039708</td>\n",
       "      <td>239708</td>\n",
       "      <td>20000.000000</td>\n",
       "      <td>3</td>\n",
       "      <td>4.788</td>\n",
       "      <td>602.30</td>\n",
       "      <td>1</td>\n",
       "      <td>1</td>\n",
       "      <td>10</td>\n",
       "      <td>...</td>\n",
       "      <td>15.0</td>\n",
       "      <td>9.0</td>\n",
       "      <td>0</td>\n",
       "      <td>0</td>\n",
       "      <td>0.000000</td>\n",
       "      <td>0.0</td>\n",
       "      <td>7</td>\n",
       "      <td>2</td>\n",
       "      <td>6</td>\n",
       "      <td>2001</td>\n",
       "    </tr>\n",
       "    <tr>\n",
       "      <th>4</th>\n",
       "      <td>4</td>\n",
       "      <td>1027483</td>\n",
       "      <td>227483</td>\n",
       "      <td>15272.727270</td>\n",
       "      <td>3</td>\n",
       "      <td>12.790</td>\n",
       "      <td>470.31</td>\n",
       "      <td>3</td>\n",
       "      <td>3</td>\n",
       "      <td>2</td>\n",
       "      <td>...</td>\n",
       "      <td>15.0</td>\n",
       "      <td>4.0</td>\n",
       "      <td>0</td>\n",
       "      <td>0</td>\n",
       "      <td>0.000000</td>\n",
       "      <td>0.0</td>\n",
       "      <td>7</td>\n",
       "      <td>4</td>\n",
       "      <td>5</td>\n",
       "      <td>2001</td>\n",
       "    </tr>\n",
       "    <tr>\n",
       "      <th>...</th>\n",
       "      <td>...</td>\n",
       "      <td>...</td>\n",
       "      <td>...</td>\n",
       "      <td>...</td>\n",
       "      <td>...</td>\n",
       "      <td>...</td>\n",
       "      <td>...</td>\n",
       "      <td>...</td>\n",
       "      <td>...</td>\n",
       "      <td>...</td>\n",
       "      <td>...</td>\n",
       "      <td>...</td>\n",
       "      <td>...</td>\n",
       "      <td>...</td>\n",
       "      <td>...</td>\n",
       "      <td>...</td>\n",
       "      <td>...</td>\n",
       "      <td>...</td>\n",
       "      <td>...</td>\n",
       "      <td>...</td>\n",
       "      <td>...</td>\n",
       "    </tr>\n",
       "    <tr>\n",
       "      <th>764851</th>\n",
       "      <td>764851</td>\n",
       "      <td>1008856</td>\n",
       "      <td>208856</td>\n",
       "      <td>9454.545455</td>\n",
       "      <td>5</td>\n",
       "      <td>12.015</td>\n",
       "      <td>183.47</td>\n",
       "      <td>3</td>\n",
       "      <td>3</td>\n",
       "      <td>2</td>\n",
       "      <td>...</td>\n",
       "      <td>14.0</td>\n",
       "      <td>8.0</td>\n",
       "      <td>0</td>\n",
       "      <td>0</td>\n",
       "      <td>0.000000</td>\n",
       "      <td>NaN</td>\n",
       "      <td>1</td>\n",
       "      <td>5</td>\n",
       "      <td>7</td>\n",
       "      <td>2001</td>\n",
       "    </tr>\n",
       "    <tr>\n",
       "      <th>764852</th>\n",
       "      <td>764852</td>\n",
       "      <td>1016651</td>\n",
       "      <td>216651</td>\n",
       "      <td>5500.000000</td>\n",
       "      <td>3</td>\n",
       "      <td>7.970</td>\n",
       "      <td>172.28</td>\n",
       "      <td>1</td>\n",
       "      <td>3</td>\n",
       "      <td>8</td>\n",
       "      <td>...</td>\n",
       "      <td>5.0</td>\n",
       "      <td>3.0</td>\n",
       "      <td>3</td>\n",
       "      <td>1564</td>\n",
       "      <td>0.000000</td>\n",
       "      <td>NaN</td>\n",
       "      <td>5</td>\n",
       "      <td>0</td>\n",
       "      <td>4</td>\n",
       "      <td>2001</td>\n",
       "    </tr>\n",
       "    <tr>\n",
       "      <th>764853</th>\n",
       "      <td>764853</td>\n",
       "      <td>1024140</td>\n",
       "      <td>224140</td>\n",
       "      <td>30545.454550</td>\n",
       "      <td>3</td>\n",
       "      <td>8.900</td>\n",
       "      <td>889.09</td>\n",
       "      <td>1</td>\n",
       "      <td>0</td>\n",
       "      <td>8</td>\n",
       "      <td>...</td>\n",
       "      <td>20.0</td>\n",
       "      <td>14.0</td>\n",
       "      <td>2</td>\n",
       "      <td>5456</td>\n",
       "      <td>1510.892308</td>\n",
       "      <td>NaN</td>\n",
       "      <td>12</td>\n",
       "      <td>6</td>\n",
       "      <td>10</td>\n",
       "      <td>1986</td>\n",
       "    </tr>\n",
       "    <tr>\n",
       "      <th>764854</th>\n",
       "      <td>764854</td>\n",
       "      <td>1014316</td>\n",
       "      <td>214316</td>\n",
       "      <td>4090.909091</td>\n",
       "      <td>3</td>\n",
       "      <td>6.030</td>\n",
       "      <td>152.18</td>\n",
       "      <td>1</td>\n",
       "      <td>3</td>\n",
       "      <td>10</td>\n",
       "      <td>...</td>\n",
       "      <td>10.0</td>\n",
       "      <td>10.0</td>\n",
       "      <td>3</td>\n",
       "      <td>223</td>\n",
       "      <td>41.169231</td>\n",
       "      <td>NaN</td>\n",
       "      <td>9</td>\n",
       "      <td>5</td>\n",
       "      <td>3</td>\n",
       "      <td>1999</td>\n",
       "    </tr>\n",
       "    <tr>\n",
       "      <th>764855</th>\n",
       "      <td>764855</td>\n",
       "      <td>1012946</td>\n",
       "      <td>212946</td>\n",
       "      <td>14727.272730</td>\n",
       "      <td>3</td>\n",
       "      <td>7.970</td>\n",
       "      <td>563.81</td>\n",
       "      <td>1</td>\n",
       "      <td>4</td>\n",
       "      <td>0</td>\n",
       "      <td>...</td>\n",
       "      <td>8.0</td>\n",
       "      <td>7.0</td>\n",
       "      <td>3</td>\n",
       "      <td>1561</td>\n",
       "      <td>360.230769</td>\n",
       "      <td>NaN</td>\n",
       "      <td>6</td>\n",
       "      <td>3</td>\n",
       "      <td>7</td>\n",
       "      <td>2001</td>\n",
       "    </tr>\n",
       "  </tbody>\n",
       "</table>\n",
       "<p>764856 rows × 39 columns</p>\n",
       "</div>"
      ],
      "text/plain": [
       "        Unnamed: 0  loan_id  user_id    total_loan  year_of_loan  interest  \\\n",
       "0                0  1040418   240418  31818.181820             3    11.466   \n",
       "1                1  1025197   225197  28000.000000             5    16.841   \n",
       "2                2  1009360   209360  17272.727270             3     8.900   \n",
       "3                3  1039708   239708  20000.000000             3     4.788   \n",
       "4                4  1027483   227483  15272.727270             3    12.790   \n",
       "...            ...      ...      ...           ...           ...       ...   \n",
       "764851      764851  1008856   208856   9454.545455             5    12.015   \n",
       "764852      764852  1016651   216651   5500.000000             3     7.970   \n",
       "764853      764853  1024140   224140  30545.454550             3     8.900   \n",
       "764854      764854  1014316   214316   4090.909091             3     6.030   \n",
       "764855      764855  1012946   212946  14727.272730             3     7.970   \n",
       "\n",
       "        monthly_payment  class  employer_type  industry  ...    f3    f4  \\\n",
       "0               1174.91      3              3        13  ...   5.0   4.0   \n",
       "1                670.69      3              3        13  ...  45.0  22.0   \n",
       "2                603.32      1              3         3  ...  28.0  19.0   \n",
       "3                602.30      1              1        10  ...  15.0   9.0   \n",
       "4                470.31      3              3         2  ...  15.0   4.0   \n",
       "...                 ...    ...            ...       ...  ...   ...   ...   \n",
       "764851           183.47      3              3         2  ...  14.0   8.0   \n",
       "764852           172.28      1              3         8  ...   5.0   3.0   \n",
       "764853           889.09      1              0         8  ...  20.0  14.0   \n",
       "764854           152.18      1              3        10  ...  10.0  10.0   \n",
       "764855           563.81      1              4         0  ...   8.0   7.0   \n",
       "\n",
       "        early_return  early_return_amount  early_return_amount_3mon  \\\n",
       "0                  3                 9927                  0.000000   \n",
       "1                  0                    0                  0.000000   \n",
       "2                  0                    0                  0.000000   \n",
       "3                  0                    0                  0.000000   \n",
       "4                  0                    0                  0.000000   \n",
       "...              ...                  ...                       ...   \n",
       "764851             0                    0                  0.000000   \n",
       "764852             3                 1564                  0.000000   \n",
       "764853             2                 5456               1510.892308   \n",
       "764854             3                  223                 41.169231   \n",
       "764855             3                 1561                360.230769   \n",
       "\n",
       "        isDefault  issue_date_month  issue_date_dayofweek  earliesCreditMon  \\\n",
       "0             0.0                10                     5                12   \n",
       "1             0.0                 6                     5                 4   \n",
       "2             0.0                 1                     2                10   \n",
       "3             0.0                 7                     2                 6   \n",
       "4             0.0                 7                     4                 5   \n",
       "...           ...               ...                   ...               ...   \n",
       "764851        NaN                 1                     5                 7   \n",
       "764852        NaN                 5                     0                 4   \n",
       "764853        NaN                12                     6                10   \n",
       "764854        NaN                 9                     5                 3   \n",
       "764855        NaN                 6                     3                 7   \n",
       "\n",
       "        earliesCreditYear  \n",
       "0                    2001  \n",
       "1                    1990  \n",
       "2                    1991  \n",
       "3                    2001  \n",
       "4                    2001  \n",
       "...                   ...  \n",
       "764851               2001  \n",
       "764852               2001  \n",
       "764853               1986  \n",
       "764854               1999  \n",
       "764855               2001  \n",
       "\n",
       "[764856 rows x 39 columns]"
      ]
     },
     "execution_count": 245,
     "metadata": {},
     "output_type": "execute_result"
    }
   ],
   "source": [
    "data"
   ]
  },
  {
   "cell_type": "code",
   "execution_count": 247,
   "id": "8599c6a6",
   "metadata": {},
   "outputs": [],
   "source": [
    "train = data[data[\"isDefault\"].notna()]\n",
    "test = data[data[\"isDefault\"].isna()]"
   ]
  },
  {
   "cell_type": "code",
   "execution_count": 248,
   "id": "1a0e40d2",
   "metadata": {},
   "outputs": [],
   "source": [
    "features = [f for f in train.columns if f not in ['loan_id', 'user_id', 'isDefault']]"
   ]
  },
  {
   "cell_type": "code",
   "execution_count": 249,
   "id": "a00f9ff0",
   "metadata": {},
   "outputs": [],
   "source": [
    "ordata_preds = np.zeros(train.shape[0])\n",
    "preds = np.zeros(test.shape[0])"
   ]
  },
  {
   "cell_type": "code",
   "execution_count": 250,
   "id": "d50e895e",
   "metadata": {},
   "outputs": [],
   "source": [
    "from sklearn.linear_model import LogisticRegression\n",
    "from sklearn.model_selection import StratifiedKFold"
   ]
  },
  {
   "cell_type": "code",
   "execution_count": 251,
   "id": "8e3cac1f",
   "metadata": {},
   "outputs": [],
   "source": [
    "import gc\n",
    "from sklearn.metrics import roc_auc_score, precision_recall_curve, roc_curve, average_precision_score\n",
    "from dateutil.relativedelta import relativedelta"
   ]
  },
  {
   "cell_type": "code",
   "execution_count": 252,
   "id": "21a0aadb",
   "metadata": {},
   "outputs": [],
   "source": [
    "y = train[\"isDefault\"]"
   ]
  },
  {
   "cell_type": "code",
   "execution_count": 194,
   "id": "a58a607b",
   "metadata": {},
   "outputs": [],
   "source": [
    "kfold = StratifiedKFold(n_splits = 10,shuffle=True ,random_state=0)"
   ]
  },
  {
   "cell_type": "code",
   "execution_count": 253,
   "id": "7cf2a258",
   "metadata": {},
   "outputs": [
    {
     "name": "stderr",
     "output_type": "stream",
     "text": [
      "C:\\Users\\LDW\\anaconda3\\lib\\site-packages\\sklearn\\linear_model\\_logistic.py:763: ConvergenceWarning: lbfgs failed to converge (status=1):\n",
      "STOP: TOTAL NO. of ITERATIONS REACHED LIMIT.\n",
      "\n",
      "Increase the number of iterations (max_iter) or scale the data as shown in:\n",
      "    https://scikit-learn.org/stable/modules/preprocessing.html\n",
      "Please also refer to the documentation for alternative solver options:\n",
      "    https://scikit-learn.org/stable/modules/linear_model.html#logistic-regression\n",
      "  n_iter_i = _check_optimize_result(\n"
     ]
    },
    {
     "name": "stdout",
     "output_type": "stream",
     "text": [
      "Fold  1 AUC : 0.653953\n"
     ]
    },
    {
     "name": "stderr",
     "output_type": "stream",
     "text": [
      "C:\\Users\\LDW\\anaconda3\\lib\\site-packages\\sklearn\\linear_model\\_logistic.py:763: ConvergenceWarning: lbfgs failed to converge (status=1):\n",
      "STOP: TOTAL NO. of ITERATIONS REACHED LIMIT.\n",
      "\n",
      "Increase the number of iterations (max_iter) or scale the data as shown in:\n",
      "    https://scikit-learn.org/stable/modules/preprocessing.html\n",
      "Please also refer to the documentation for alternative solver options:\n",
      "    https://scikit-learn.org/stable/modules/linear_model.html#logistic-regression\n",
      "  n_iter_i = _check_optimize_result(\n"
     ]
    },
    {
     "name": "stdout",
     "output_type": "stream",
     "text": [
      "Fold  2 AUC : 0.658334\n"
     ]
    },
    {
     "name": "stderr",
     "output_type": "stream",
     "text": [
      "C:\\Users\\LDW\\anaconda3\\lib\\site-packages\\sklearn\\linear_model\\_logistic.py:763: ConvergenceWarning: lbfgs failed to converge (status=1):\n",
      "STOP: TOTAL NO. of ITERATIONS REACHED LIMIT.\n",
      "\n",
      "Increase the number of iterations (max_iter) or scale the data as shown in:\n",
      "    https://scikit-learn.org/stable/modules/preprocessing.html\n",
      "Please also refer to the documentation for alternative solver options:\n",
      "    https://scikit-learn.org/stable/modules/linear_model.html#logistic-regression\n",
      "  n_iter_i = _check_optimize_result(\n"
     ]
    },
    {
     "name": "stdout",
     "output_type": "stream",
     "text": [
      "Fold  3 AUC : 0.655637\n"
     ]
    },
    {
     "name": "stderr",
     "output_type": "stream",
     "text": [
      "C:\\Users\\LDW\\anaconda3\\lib\\site-packages\\sklearn\\linear_model\\_logistic.py:763: ConvergenceWarning: lbfgs failed to converge (status=1):\n",
      "STOP: TOTAL NO. of ITERATIONS REACHED LIMIT.\n",
      "\n",
      "Increase the number of iterations (max_iter) or scale the data as shown in:\n",
      "    https://scikit-learn.org/stable/modules/preprocessing.html\n",
      "Please also refer to the documentation for alternative solver options:\n",
      "    https://scikit-learn.org/stable/modules/linear_model.html#logistic-regression\n",
      "  n_iter_i = _check_optimize_result(\n"
     ]
    },
    {
     "name": "stdout",
     "output_type": "stream",
     "text": [
      "Fold  4 AUC : 0.657152\n"
     ]
    },
    {
     "name": "stderr",
     "output_type": "stream",
     "text": [
      "C:\\Users\\LDW\\anaconda3\\lib\\site-packages\\sklearn\\linear_model\\_logistic.py:763: ConvergenceWarning: lbfgs failed to converge (status=1):\n",
      "STOP: TOTAL NO. of ITERATIONS REACHED LIMIT.\n",
      "\n",
      "Increase the number of iterations (max_iter) or scale the data as shown in:\n",
      "    https://scikit-learn.org/stable/modules/preprocessing.html\n",
      "Please also refer to the documentation for alternative solver options:\n",
      "    https://scikit-learn.org/stable/modules/linear_model.html#logistic-regression\n",
      "  n_iter_i = _check_optimize_result(\n"
     ]
    },
    {
     "name": "stdout",
     "output_type": "stream",
     "text": [
      "Fold  5 AUC : 0.654538\n"
     ]
    },
    {
     "name": "stderr",
     "output_type": "stream",
     "text": [
      "C:\\Users\\LDW\\anaconda3\\lib\\site-packages\\sklearn\\linear_model\\_logistic.py:763: ConvergenceWarning: lbfgs failed to converge (status=1):\n",
      "STOP: TOTAL NO. of ITERATIONS REACHED LIMIT.\n",
      "\n",
      "Increase the number of iterations (max_iter) or scale the data as shown in:\n",
      "    https://scikit-learn.org/stable/modules/preprocessing.html\n",
      "Please also refer to the documentation for alternative solver options:\n",
      "    https://scikit-learn.org/stable/modules/linear_model.html#logistic-regression\n",
      "  n_iter_i = _check_optimize_result(\n"
     ]
    },
    {
     "name": "stdout",
     "output_type": "stream",
     "text": [
      "Fold  6 AUC : 0.645824\n"
     ]
    },
    {
     "name": "stderr",
     "output_type": "stream",
     "text": [
      "C:\\Users\\LDW\\anaconda3\\lib\\site-packages\\sklearn\\linear_model\\_logistic.py:763: ConvergenceWarning: lbfgs failed to converge (status=1):\n",
      "STOP: TOTAL NO. of ITERATIONS REACHED LIMIT.\n",
      "\n",
      "Increase the number of iterations (max_iter) or scale the data as shown in:\n",
      "    https://scikit-learn.org/stable/modules/preprocessing.html\n",
      "Please also refer to the documentation for alternative solver options:\n",
      "    https://scikit-learn.org/stable/modules/linear_model.html#logistic-regression\n",
      "  n_iter_i = _check_optimize_result(\n"
     ]
    },
    {
     "name": "stdout",
     "output_type": "stream",
     "text": [
      "Fold  7 AUC : 0.627082\n"
     ]
    },
    {
     "name": "stderr",
     "output_type": "stream",
     "text": [
      "C:\\Users\\LDW\\anaconda3\\lib\\site-packages\\sklearn\\linear_model\\_logistic.py:763: ConvergenceWarning: lbfgs failed to converge (status=1):\n",
      "STOP: TOTAL NO. of ITERATIONS REACHED LIMIT.\n",
      "\n",
      "Increase the number of iterations (max_iter) or scale the data as shown in:\n",
      "    https://scikit-learn.org/stable/modules/preprocessing.html\n",
      "Please also refer to the documentation for alternative solver options:\n",
      "    https://scikit-learn.org/stable/modules/linear_model.html#logistic-regression\n",
      "  n_iter_i = _check_optimize_result(\n"
     ]
    },
    {
     "name": "stdout",
     "output_type": "stream",
     "text": [
      "Fold  8 AUC : 0.657155\n"
     ]
    },
    {
     "name": "stderr",
     "output_type": "stream",
     "text": [
      "C:\\Users\\LDW\\anaconda3\\lib\\site-packages\\sklearn\\linear_model\\_logistic.py:763: ConvergenceWarning: lbfgs failed to converge (status=1):\n",
      "STOP: TOTAL NO. of ITERATIONS REACHED LIMIT.\n",
      "\n",
      "Increase the number of iterations (max_iter) or scale the data as shown in:\n",
      "    https://scikit-learn.org/stable/modules/preprocessing.html\n",
      "Please also refer to the documentation for alternative solver options:\n",
      "    https://scikit-learn.org/stable/modules/linear_model.html#logistic-regression\n",
      "  n_iter_i = _check_optimize_result(\n"
     ]
    },
    {
     "name": "stdout",
     "output_type": "stream",
     "text": [
      "Fold  9 AUC : 0.648387\n"
     ]
    },
    {
     "name": "stderr",
     "output_type": "stream",
     "text": [
      "C:\\Users\\LDW\\anaconda3\\lib\\site-packages\\sklearn\\linear_model\\_logistic.py:763: ConvergenceWarning: lbfgs failed to converge (status=1):\n",
      "STOP: TOTAL NO. of ITERATIONS REACHED LIMIT.\n",
      "\n",
      "Increase the number of iterations (max_iter) or scale the data as shown in:\n",
      "    https://scikit-learn.org/stable/modules/preprocessing.html\n",
      "Please also refer to the documentation for alternative solver options:\n",
      "    https://scikit-learn.org/stable/modules/linear_model.html#logistic-regression\n",
      "  n_iter_i = _check_optimize_result(\n"
     ]
    },
    {
     "name": "stdout",
     "output_type": "stream",
     "text": [
      "Fold 10 AUC : 0.654529\n",
      " Full AUC score 0.650878\n"
     ]
    }
   ],
   "source": [
    "for k, (train_index, valuation_index) in enumerate(kfold.split(train,y)):\n",
    "    train_x, train_y = train[features].iloc[train_index], y.iloc[train_index]\n",
    "    valuation_x, valuation_y = train[features].iloc[valuation_index], y.iloc[valuation_index]\n",
    "    lr = LogisticRegression(C=1.0, random_state=0) #Logistic model\n",
    "    lr.fit(train_x,train_y)\n",
    "    ordata_preds[valuation_index]  = lr.predict_proba(valuation_x)[:,1]\n",
    "    print(\"Fold %2d AUC : %.6f\" % (k + 1, roc_auc_score(valuation_y, ordata_preds[valuation_index])))\n",
    "    preds  += lr.predict_proba(test[features])[:,1] / kfold.n_splits\n",
    "    del lr, train_x, train_y, valuation_x, valuation_y \n",
    "    gc.collect()\n",
    "print(\" Full AUC score %.6f\" % roc_auc_score(y, ordata_preds)) \n"
   ]
  },
  {
   "cell_type": "code",
   "execution_count": 254,
   "id": "147428bb",
   "metadata": {},
   "outputs": [
    {
     "name": "stderr",
     "output_type": "stream",
     "text": [
      "<ipython-input-254-4cacd7473762>:1: SettingWithCopyWarning: \n",
      "A value is trying to be set on a copy of a slice from a DataFrame.\n",
      "Try using .loc[row_indexer,col_indexer] = value instead\n",
      "\n",
      "See the caveats in the documentation: https://pandas.pydata.org/pandas-docs/stable/user_guide/indexing.html#returning-a-view-versus-a-copy\n",
      "  test[\"isDefault\"] = preds\n"
     ]
    }
   ],
   "source": [
    "test[\"isDefault\"] = preds"
   ]
  },
  {
   "cell_type": "code",
   "execution_count": 255,
   "id": "51ce7bfb",
   "metadata": {},
   "outputs": [],
   "source": [
    "results = test[[\"loan_id\",\"isDefault\"]]"
   ]
  },
  {
   "cell_type": "code",
   "execution_count": 256,
   "id": "a8b087b6",
   "metadata": {},
   "outputs": [],
   "source": [
    "results = results.rename(columns={\"loan_id\":\"id\"})"
   ]
  },
  {
   "cell_type": "code",
   "execution_count": 257,
   "id": "6e4d9114",
   "metadata": {
    "scrolled": false
   },
   "outputs": [
    {
     "data": {
      "text/html": [
       "<div>\n",
       "<style scoped>\n",
       "    .dataframe tbody tr th:only-of-type {\n",
       "        vertical-align: middle;\n",
       "    }\n",
       "\n",
       "    .dataframe tbody tr th {\n",
       "        vertical-align: top;\n",
       "    }\n",
       "\n",
       "    .dataframe thead th {\n",
       "        text-align: right;\n",
       "    }\n",
       "</style>\n",
       "<table border=\"1\" class=\"dataframe\">\n",
       "  <thead>\n",
       "    <tr style=\"text-align: right;\">\n",
       "      <th></th>\n",
       "      <th>id</th>\n",
       "      <th>isDefault</th>\n",
       "    </tr>\n",
       "  </thead>\n",
       "  <tbody>\n",
       "    <tr>\n",
       "      <th>759856</th>\n",
       "      <td>1000575</td>\n",
       "      <td>1.859374e-04</td>\n",
       "    </tr>\n",
       "    <tr>\n",
       "      <th>759857</th>\n",
       "      <td>1028125</td>\n",
       "      <td>1.005656e-07</td>\n",
       "    </tr>\n",
       "    <tr>\n",
       "      <th>759858</th>\n",
       "      <td>1010694</td>\n",
       "      <td>6.607136e-19</td>\n",
       "    </tr>\n",
       "    <tr>\n",
       "      <th>759859</th>\n",
       "      <td>1026712</td>\n",
       "      <td>1.647989e-15</td>\n",
       "    </tr>\n",
       "    <tr>\n",
       "      <th>759860</th>\n",
       "      <td>1002895</td>\n",
       "      <td>2.008745e-12</td>\n",
       "    </tr>\n",
       "    <tr>\n",
       "      <th>...</th>\n",
       "      <td>...</td>\n",
       "      <td>...</td>\n",
       "    </tr>\n",
       "    <tr>\n",
       "      <th>764851</th>\n",
       "      <td>1008856</td>\n",
       "      <td>2.595504e-01</td>\n",
       "    </tr>\n",
       "    <tr>\n",
       "      <th>764852</th>\n",
       "      <td>1016651</td>\n",
       "      <td>1.005893e-06</td>\n",
       "    </tr>\n",
       "    <tr>\n",
       "      <th>764853</th>\n",
       "      <td>1024140</td>\n",
       "      <td>1.147550e-18</td>\n",
       "    </tr>\n",
       "    <tr>\n",
       "      <th>764854</th>\n",
       "      <td>1014316</td>\n",
       "      <td>1.603030e-02</td>\n",
       "    </tr>\n",
       "    <tr>\n",
       "      <th>764855</th>\n",
       "      <td>1012946</td>\n",
       "      <td>7.498679e-07</td>\n",
       "    </tr>\n",
       "  </tbody>\n",
       "</table>\n",
       "<p>5000 rows × 2 columns</p>\n",
       "</div>"
      ],
      "text/plain": [
       "             id     isDefault\n",
       "759856  1000575  1.859374e-04\n",
       "759857  1028125  1.005656e-07\n",
       "759858  1010694  6.607136e-19\n",
       "759859  1026712  1.647989e-15\n",
       "759860  1002895  2.008745e-12\n",
       "...         ...           ...\n",
       "764851  1008856  2.595504e-01\n",
       "764852  1016651  1.005893e-06\n",
       "764853  1024140  1.147550e-18\n",
       "764854  1014316  1.603030e-02\n",
       "764855  1012946  7.498679e-07\n",
       "\n",
       "[5000 rows x 2 columns]"
      ]
     },
     "execution_count": 257,
     "metadata": {},
     "output_type": "execute_result"
    }
   ],
   "source": [
    "results"
   ]
  },
  {
   "cell_type": "code",
   "execution_count": 258,
   "id": "4fe3db06",
   "metadata": {},
   "outputs": [],
   "source": [
    "results.to_csv(\"logisticmodelfinal.csv\",index=False)"
   ]
  }
 ],
 "metadata": {
  "kernelspec": {
   "display_name": "Python 3",
   "language": "python",
   "name": "python3"
  },
  "language_info": {
   "codemirror_mode": {
    "name": "ipython",
    "version": 3
   },
   "file_extension": ".py",
   "mimetype": "text/x-python",
   "name": "python",
   "nbconvert_exporter": "python",
   "pygments_lexer": "ipython3",
   "version": "3.8.8"
  }
 },
 "nbformat": 4,
 "nbformat_minor": 5
}
