{
 "cells": [
  {
   "cell_type": "code",
   "execution_count": 1,
   "id": "f2ee7a41",
   "metadata": {},
   "outputs": [],
   "source": [
    "import numpy as np\n",
    "import pandas as pd\n",
    "import gc\n",
    "from sklearn.model_selection import StratifiedKFold\n",
    "from sklearn.ensemble import RandomForestClassifier\n",
    "from sklearn.metrics import roc_auc_score, precision_recall_curve, roc_curve, average_precision_score"
   ]
  },
  {
   "cell_type": "code",
   "execution_count": 2,
   "id": "f39ca10f",
   "metadata": {},
   "outputs": [],
   "source": [
    "bankdata  = pd.read_csv(\"cleanbankdata.csv\")\n",
    "testdata = pd.read_csv(\"cleantestdata.csv\")\n",
    "data = pd.concat([bankdata,testdata]).reset_index(drop=True)"
   ]
  },
  {
   "cell_type": "code",
   "execution_count": 3,
   "id": "0c463c71",
   "metadata": {},
   "outputs": [],
   "source": [
    "train = data[data[\"isDefault\"].notna()]\n",
    "test = data[data[\"isDefault\"].isna()]\n",
    "y = train[\"isDefault\"]"
   ]
  },
  {
   "cell_type": "code",
   "execution_count": 21,
   "id": "e412226e",
   "metadata": {},
   "outputs": [],
   "source": [
    "features = [f for f in train.columns if f not in ['loan_id', 'user_id', 'isDefault']]\n",
    "ordata_preds = np.zeros(train.shape[0])\n",
    "preds = np.zeros(test.shape[0])"
   ]
  },
  {
   "cell_type": "code",
   "execution_count": 22,
   "id": "aab458fb",
   "metadata": {},
   "outputs": [],
   "source": [
    "forest = RandomForestClassifier(criterion='entropy',n_estimators=100,max_features=\"sqrt\",random_state=1,n_jobs=2)\n",
    "forest.fit(train[features],y)\n",
    "preds = forest.predict(test[features])"
   ]
  },
  {
   "cell_type": "code",
   "execution_count": 18,
   "id": "fac7820b",
   "metadata": {},
   "outputs": [],
   "source": [
    "kfold = StratifiedKFold(n_splits = 5,shuffle=True ,random_state=0)"
   ]
  },
  {
   "cell_type": "code",
   "execution_count": 19,
   "id": "f4b49448",
   "metadata": {},
   "outputs": [
    {
     "name": "stdout",
     "output_type": "stream",
     "text": [
      "Fold  1 AUC : 0.690920\n",
      "Fold  2 AUC : 0.684309\n",
      "Fold  3 AUC : 0.678708\n",
      "Fold  4 AUC : 0.715561\n",
      "Fold  5 AUC : 0.724204\n",
      " Full AUC score 0.698727\n"
     ]
    }
   ],
   "source": [
    "for k, (train_index, valuation_index) in enumerate(kfold.split(train,y)):\n",
    "    train_x, train_y = train[features].iloc[train_index], y.iloc[train_index]\n",
    "    valuation_x, valuation_y = train[features].iloc[valuation_index], y.iloc[valuation_index]\n",
    "    forest = RandomForestClassifier(criterion='entropy',n_estimators=200,max_features=\"sqrt\",random_state=1,n_jobs=2)\n",
    "    forest.fit(train_x,train_y)\n",
    "    ordata_preds[valuation_index]  = forest.predict(valuation_x)\n",
    "    print(\"Fold %2d AUC : %.6f\" % (k + 1, roc_auc_score(valuation_y, ordata_preds[valuation_index])))\n",
    "    preds  += forest.predict(test[features]) / kfold.n_splits\n",
    "    del forest, train_x, train_y, valuation_x, valuation_y \n",
    "    gc.collect()\n",
    "print(\" Full AUC score %.6f\" % roc_auc_score(y, ordata_preds)) "
   ]
  },
  {
   "cell_type": "code",
   "execution_count": null,
   "id": "295055c9",
   "metadata": {},
   "outputs": [],
   "source": []
  },
  {
   "cell_type": "code",
   "execution_count": 23,
   "id": "78ce3232",
   "metadata": {},
   "outputs": [
    {
     "name": "stderr",
     "output_type": "stream",
     "text": [
      "<ipython-input-23-4cacd7473762>:1: SettingWithCopyWarning: \n",
      "A value is trying to be set on a copy of a slice from a DataFrame.\n",
      "Try using .loc[row_indexer,col_indexer] = value instead\n",
      "\n",
      "See the caveats in the documentation: https://pandas.pydata.org/pandas-docs/stable/user_guide/indexing.html#returning-a-view-versus-a-copy\n",
      "  test[\"isDefault\"] = preds\n"
     ]
    }
   ],
   "source": [
    "test[\"isDefault\"] = preds"
   ]
  },
  {
   "cell_type": "code",
   "execution_count": 24,
   "id": "2825a823",
   "metadata": {},
   "outputs": [
    {
     "data": {
      "text/html": [
       "<div>\n",
       "<style scoped>\n",
       "    .dataframe tbody tr th:only-of-type {\n",
       "        vertical-align: middle;\n",
       "    }\n",
       "\n",
       "    .dataframe tbody tr th {\n",
       "        vertical-align: top;\n",
       "    }\n",
       "\n",
       "    .dataframe thead th {\n",
       "        text-align: right;\n",
       "    }\n",
       "</style>\n",
       "<table border=\"1\" class=\"dataframe\">\n",
       "  <thead>\n",
       "    <tr style=\"text-align: right;\">\n",
       "      <th></th>\n",
       "      <th>id</th>\n",
       "      <th>isDefault</th>\n",
       "    </tr>\n",
       "  </thead>\n",
       "  <tbody>\n",
       "    <tr>\n",
       "      <th>9998</th>\n",
       "      <td>1000575</td>\n",
       "      <td>0.0</td>\n",
       "    </tr>\n",
       "    <tr>\n",
       "      <th>9999</th>\n",
       "      <td>1028125</td>\n",
       "      <td>0.0</td>\n",
       "    </tr>\n",
       "    <tr>\n",
       "      <th>10000</th>\n",
       "      <td>1010694</td>\n",
       "      <td>0.0</td>\n",
       "    </tr>\n",
       "    <tr>\n",
       "      <th>10001</th>\n",
       "      <td>1026712</td>\n",
       "      <td>0.0</td>\n",
       "    </tr>\n",
       "    <tr>\n",
       "      <th>10002</th>\n",
       "      <td>1002895</td>\n",
       "      <td>0.0</td>\n",
       "    </tr>\n",
       "    <tr>\n",
       "      <th>...</th>\n",
       "      <td>...</td>\n",
       "      <td>...</td>\n",
       "    </tr>\n",
       "    <tr>\n",
       "      <th>14993</th>\n",
       "      <td>1008856</td>\n",
       "      <td>0.0</td>\n",
       "    </tr>\n",
       "    <tr>\n",
       "      <th>14994</th>\n",
       "      <td>1016651</td>\n",
       "      <td>0.0</td>\n",
       "    </tr>\n",
       "    <tr>\n",
       "      <th>14995</th>\n",
       "      <td>1024140</td>\n",
       "      <td>0.0</td>\n",
       "    </tr>\n",
       "    <tr>\n",
       "      <th>14996</th>\n",
       "      <td>1014316</td>\n",
       "      <td>0.0</td>\n",
       "    </tr>\n",
       "    <tr>\n",
       "      <th>14997</th>\n",
       "      <td>1012946</td>\n",
       "      <td>0.0</td>\n",
       "    </tr>\n",
       "  </tbody>\n",
       "</table>\n",
       "<p>5000 rows × 2 columns</p>\n",
       "</div>"
      ],
      "text/plain": [
       "            id  isDefault\n",
       "9998   1000575        0.0\n",
       "9999   1028125        0.0\n",
       "10000  1010694        0.0\n",
       "10001  1026712        0.0\n",
       "10002  1002895        0.0\n",
       "...        ...        ...\n",
       "14993  1008856        0.0\n",
       "14994  1016651        0.0\n",
       "14995  1024140        0.0\n",
       "14996  1014316        0.0\n",
       "14997  1012946        0.0\n",
       "\n",
       "[5000 rows x 2 columns]"
      ]
     },
     "execution_count": 24,
     "metadata": {},
     "output_type": "execute_result"
    }
   ],
   "source": [
    "results = test[[\"loan_id\",\"isDefault\"]]\n",
    "results = results.rename(columns={\"loan_id\":\"id\"})\n",
    "results"
   ]
  },
  {
   "cell_type": "code",
   "execution_count": 25,
   "id": "3b53bac9",
   "metadata": {},
   "outputs": [],
   "source": [
    "results.to_csv(\"randomforest100.csv\",index=False)"
   ]
  }
 ],
 "metadata": {
  "kernelspec": {
   "display_name": "Python 3",
   "language": "python",
   "name": "python3"
  },
  "language_info": {
   "codemirror_mode": {
    "name": "ipython",
    "version": 3
   },
   "file_extension": ".py",
   "mimetype": "text/x-python",
   "name": "python",
   "nbconvert_exporter": "python",
   "pygments_lexer": "ipython3",
   "version": "3.8.8"
  }
 },
 "nbformat": 4,
 "nbformat_minor": 5
}
